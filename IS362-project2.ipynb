# Import necessary libraries
import pandas as pd
from sklearn.preprocessing import MinMaxScaler, StandardScaler

# Load the dataset
df = pd.read_csv('dataset1.csv')
print("Original DataFrame:")
print(df)

# Tidy the data
tidy_df = pd.melt(df, id_vars=['user'], var_name='movie', value_name='rating')
tidy_df.dropna(subset=['rating'], inplace=True)
print("\nTidied DataFrame:")
print(tidy_df)

# Show the average ratings for each user and each movie
average_ratings_user = tidy_df.groupby('user')['rating'].mean()
average_ratings_movie = tidy_df.groupby('movie')['rating'].mean()

print("\nAverage Ratings by User:")
print(average_ratings_user)

print("\nAverage Ratings by Movie:")
print(average_ratings_movie)

# Normalize the ratings
df_pivot = tidy_df.pivot(index='user', columns='movie', values='rating')
scaler = MinMaxScaler()
normalized_ratings = scaler.fit_transform(df_pivot.fillna(0))
normalized_df = pd.DataFrame(normalized_ratings, index=df_pivot.index, columns=df_pivot.columns)

print("\nNormalized Ratings DataFrame:")
print(normalized_df)

average_normalized_ratings_user = normalized_df.mean(axis=1)
average_normalized_ratings_movie = normalized_df.mean(axis=0)

print("\nAverage Normalized Ratings by User:")
print(average_normalized_ratings_user)

print("\nAverage Normalized Ratings by Movie:")
print(average_normalized_ratings_movie)

# Text-based conclusion on the advantages and disadvantages of using normalized ratings
conclusion = """
Normalization converts the ratings to a common scale (0 to 1), which makes it easier to compare ratings across different users and movies. 
However, this can distort the original rating scale, making it harder to interpret the actual user preference.

Advantages:
- Easier comparison across different users and movies.
- Helps in reducing bias due to different rating scales used by different users.

Disadvantages:
- Loss of original rating information.
- Can be misleading if the normalization does not consider the context of the ratings.
"""

print("\nConclusion:")
print(conclusion)

# [Extra credit] Standardize the ratings
standard_scaler = StandardScaler()
standardized_ratings = standard_scaler.fit_transform(df_pivot.fillna(0))
standardized_df = pd.DataFrame(standardized_ratings, index=df_pivot.index, columns=df_pivot.columns)

print("\nStandardized Ratings DataFrame:")
print(standardized_df)

average_standardized_ratings_user = standardized_df.mean(axis=1)
average_standardized_ratings_movie = standardized_df.mean(axis=0)

print("\nAverage Standardized Ratings by User:")
print(average_standardized_ratings_user)

print("\nAverage Standardized Ratings by Movie:")
print(average_standardized_ratings_movie)
